{
 "cells": [
  {
   "cell_type": "code",
   "execution_count": 1,
   "id": "6f799c75-bf13-4de1-acaa-e4bdd5e8ce50",
   "metadata": {},
   "outputs": [
    {
     "name": "stdout",
     "output_type": "stream",
     "text": [
      "Imports OK 👍\n"
     ]
    }
   ],
   "source": [
    "import geopandas, osmnx, networkx, folium, mapclassify, contextily, pyscipopt\n",
    "print(\"Imports OK 👍\")"
   ]
  },
  {
   "cell_type": "code",
   "execution_count": null,
   "id": "32a65202-8b74-4667-8909-53874b2d6316",
   "metadata": {},
   "outputs": [],
   "source": []
  }
 ],
 "metadata": {
  "kernelspec": {
   "display_name": "Python 3 (ipykernel)",
   "language": "python",
   "name": "python3"
  },
  "language_info": {
   "codemirror_mode": {
    "name": "ipython",
    "version": 3
   },
   "file_extension": ".py",
   "mimetype": "text/x-python",
   "name": "python",
   "nbconvert_exporter": "python",
   "pygments_lexer": "ipython3",
   "version": "3.13.4"
  }
 },
 "nbformat": 4,
 "nbformat_minor": 5
}
